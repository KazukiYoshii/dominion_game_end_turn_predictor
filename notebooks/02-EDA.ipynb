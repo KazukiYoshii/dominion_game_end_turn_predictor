{
 "cells": [
  {
   "cell_type": "code",
   "execution_count": 1,
   "id": "4d8d4602-50ed-4b6d-a65e-de510041f1d3",
   "metadata": {},
   "outputs": [],
   "source": [
    "!cat ../resources/supplys/*.txt > ../resources/dataset.csv"
   ]
  },
  {
   "cell_type": "code",
   "execution_count": 25,
   "id": "6eb457cc-8f79-47d3-8263-5765cb138848",
   "metadata": {},
   "outputs": [],
   "source": [
    "import warnings\n",
    "warnings.simplefilter('ignore')\n",
    "\n",
    "import numpy as np\n",
    "import pandas as pd\n",
    "import matplotlib.pyplot as plt\n",
    "import seaborn as sns\n",
    "%matplotlib inline"
   ]
  },
  {
   "cell_type": "code",
   "execution_count": 3,
   "id": "f07d8c56-9532-4171-b034-e7e54b94f5ab",
   "metadata": {},
   "outputs": [],
   "source": [
    "df = pd.read_csv(\"../resources/dataset.csv\", names=[\"supply\", \"finish_turn\", \"is_finish\"])"
   ]
  },
  {
   "cell_type": "code",
   "execution_count": 4,
   "id": "55e86fb3-db62-48b1-bcd7-d776f3f992ad",
   "metadata": {},
   "outputs": [],
   "source": [
    "# finish_turn = Noneの行があったので、それは除く\n",
    "df = df[df[\"finish_turn\"] != \"None\"]"
   ]
  },
  {
   "cell_type": "code",
   "execution_count": 5,
   "id": "60d795c9-055a-4479-b333-2c17905d9d58",
   "metadata": {},
   "outputs": [
    {
     "data": {
      "text/html": [
       "<div>\n",
       "<style scoped>\n",
       "    .dataframe tbody tr th:only-of-type {\n",
       "        vertical-align: middle;\n",
       "    }\n",
       "\n",
       "    .dataframe tbody tr th {\n",
       "        vertical-align: top;\n",
       "    }\n",
       "\n",
       "    .dataframe thead th {\n",
       "        text-align: right;\n",
       "    }\n",
       "</style>\n",
       "<table border=\"1\" class=\"dataframe\">\n",
       "  <thead>\n",
       "    <tr style=\"text-align: right;\">\n",
       "      <th></th>\n",
       "      <th>supply</th>\n",
       "      <th>finish_turn</th>\n",
       "      <th>is_finish</th>\n",
       "    </tr>\n",
       "  </thead>\n",
       "  <tbody>\n",
       "    <tr>\n",
       "      <th>0</th>\n",
       "      <td>forge mountebank embassy emporium patron patri...</td>\n",
       "      <td>16.5</td>\n",
       "      <td>False</td>\n",
       "    </tr>\n",
       "    <tr>\n",
       "      <th>1</th>\n",
       "      <td>royal-carriage save hunting-lodge way-of-the-h...</td>\n",
       "      <td>15.5</td>\n",
       "      <td>True</td>\n",
       "    </tr>\n",
       "    <tr>\n",
       "      <th>2</th>\n",
       "      <td>sauna vampire livery fleet outpost village jes...</td>\n",
       "      <td>12.5</td>\n",
       "      <td>False</td>\n",
       "    </tr>\n",
       "    <tr>\n",
       "      <th>3</th>\n",
       "      <td>paddock acting-troupe duchess merchant-ship ho...</td>\n",
       "      <td>14.5</td>\n",
       "      <td>False</td>\n",
       "    </tr>\n",
       "    <tr>\n",
       "      <th>4</th>\n",
       "      <td>warehouse cursed-village contraband courtier h...</td>\n",
       "      <td>12</td>\n",
       "      <td>False</td>\n",
       "    </tr>\n",
       "    <tr>\n",
       "      <th>...</th>\n",
       "      <td>...</td>\n",
       "      <td>...</td>\n",
       "      <td>...</td>\n",
       "    </tr>\n",
       "    <tr>\n",
       "      <th>3240</th>\n",
       "      <td>witch fairgrounds scrying-pool groom pearl-div...</td>\n",
       "      <td>19</td>\n",
       "      <td>False</td>\n",
       "    </tr>\n",
       "    <tr>\n",
       "      <th>3241</th>\n",
       "      <td>fortune-teller dungeon acting-troupe royal-bla...</td>\n",
       "      <td>11</td>\n",
       "      <td>False</td>\n",
       "    </tr>\n",
       "    <tr>\n",
       "      <th>3242</th>\n",
       "      <td>develop stampede star-chart oasis band-of-misf...</td>\n",
       "      <td>21</td>\n",
       "      <td>True</td>\n",
       "    </tr>\n",
       "    <tr>\n",
       "      <th>3243</th>\n",
       "      <td>museum herbalist crumbling-castle small-castle...</td>\n",
       "      <td>16.5</td>\n",
       "      <td>False</td>\n",
       "    </tr>\n",
       "    <tr>\n",
       "      <th>3244</th>\n",
       "      <td>gear horse black-cat cavalry militia cobbler f...</td>\n",
       "      <td>19</td>\n",
       "      <td>False</td>\n",
       "    </tr>\n",
       "  </tbody>\n",
       "</table>\n",
       "<p>3197 rows × 3 columns</p>\n",
       "</div>"
      ],
      "text/plain": [
       "                                                 supply finish_turn  is_finish\n",
       "0     forge mountebank embassy emporium patron patri...        16.5      False\n",
       "1     royal-carriage save hunting-lodge way-of-the-h...        15.5       True\n",
       "2     sauna vampire livery fleet outpost village jes...        12.5      False\n",
       "3     paddock acting-troupe duchess merchant-ship ho...        14.5      False\n",
       "4     warehouse cursed-village contraband courtier h...          12      False\n",
       "...                                                 ...         ...        ...\n",
       "3240  witch fairgrounds scrying-pool groom pearl-div...          19      False\n",
       "3241  fortune-teller dungeon acting-troupe royal-bla...          11      False\n",
       "3242  develop stampede star-chart oasis band-of-misf...          21       True\n",
       "3243  museum herbalist crumbling-castle small-castle...        16.5      False\n",
       "3244  gear horse black-cat cavalry militia cobbler f...          19      False\n",
       "\n",
       "[3197 rows x 3 columns]"
      ]
     },
     "execution_count": 5,
     "metadata": {},
     "output_type": "execute_result"
    }
   ],
   "source": [
    "df"
   ]
  },
  {
   "cell_type": "code",
   "execution_count": 6,
   "id": "ddb32e99-3bdc-49c5-8809-4ec6d7f3d677",
   "metadata": {},
   "outputs": [
    {
     "name": "stdout",
     "output_type": "stream",
     "text": [
      "<class 'pandas.core.frame.DataFrame'>\n",
      "Int64Index: 3197 entries, 0 to 3244\n",
      "Data columns (total 3 columns):\n",
      " #   Column       Non-Null Count  Dtype \n",
      "---  ------       --------------  ----- \n",
      " 0   supply       3197 non-null   object\n",
      " 1   finish_turn  3197 non-null   object\n",
      " 2   is_finish    3197 non-null   bool  \n",
      "dtypes: bool(1), object(2)\n",
      "memory usage: 78.1+ KB\n"
     ]
    }
   ],
   "source": [
    "df.info()"
   ]
  },
  {
   "cell_type": "code",
   "execution_count": 7,
   "id": "7fa33317-0997-4214-9673-4b5960357eb0",
   "metadata": {},
   "outputs": [],
   "source": [
    "# 終了ターンをfloatにcast\n",
    "df[\"finish_turn\"] = df[\"finish_turn\"].astype(float)"
   ]
  },
  {
   "cell_type": "code",
   "execution_count": 8,
   "id": "b6c0ca4b-2e67-48fb-9a62-8424bb84cfcd",
   "metadata": {},
   "outputs": [],
   "source": [
    "is_finish_df = df[df[\"is_finish\"] == True]\n",
    "is_not_finish_df = df[df[\"is_finish\"] == False]"
   ]
  },
  {
   "cell_type": "markdown",
   "id": "3dd144a1-8ab3-48b9-9204-20e5342c0e2c",
   "metadata": {},
   "source": [
    "# is_finish"
   ]
  },
  {
   "cell_type": "code",
   "execution_count": 9,
   "id": "4d2d5afe-a488-4f76-810e-b781eb3fc15f",
   "metadata": {},
   "outputs": [
    {
     "name": "stdout",
     "output_type": "stream",
     "text": [
      "is finish: 775\n",
      "is not finish: 2422\n"
     ]
    }
   ],
   "source": [
    "# ゲーム終了判定されたものの数\n",
    "print(f'is finish: {len(is_finish_df)}')\n",
    "print(f'is not finish: {len(is_not_finish_df)}')"
   ]
  },
  {
   "cell_type": "markdown",
   "id": "ad3370d9-2020-4b22-9ad8-5c49de6446ad",
   "metadata": {},
   "source": [
    "# finish_turn"
   ]
  },
  {
   "cell_type": "code",
   "execution_count": 10,
   "id": "b85bbe88-c7b8-4fdd-afcb-23c8aae0d594",
   "metadata": {},
   "outputs": [
    {
     "name": "stdout",
     "output_type": "stream",
     "text": [
      "is finish: 15.273548387096774\n",
      "is not finish: 13.623245251857968\n"
     ]
    }
   ],
   "source": [
    "# 平均終了ターン\n",
    "print(f'is finish: {is_finish_df[\"finish_turn\"].mean()}')\n",
    "print(f'is not finish: {is_not_finish_df[\"finish_turn\"].mean()}')"
   ]
  },
  {
   "cell_type": "code",
   "execution_count": 11,
   "id": "226006ac-3646-4d98-94ce-78d65837d85b",
   "metadata": {},
   "outputs": [
    {
     "data": {
      "text/plain": [
       "<AxesSubplot:xlabel='finish_turn', ylabel='Density'>"
      ]
     },
     "execution_count": 11,
     "metadata": {},
     "output_type": "execute_result"
    },
    {
     "data": {
      "image/png": "[encoded data removed]",
      "text/plain": [
       "<Figure size 432x288 with 1 Axes>"
      ]
     },
     "metadata": {
      "needs_background": "light"
     },
     "output_type": "display_data"
    }
   ],
   "source": [
    "# ゲーム終了ターンのヒストグラム\n",
    "sns.distplot(is_finish_df[\"finish_turn\"])"
   ]
  },
  {
   "cell_type": "code",
   "execution_count": 12,
   "id": "4310dde2-2273-4f88-8594-84b6ce8dffc0",
   "metadata": {},
   "outputs": [
    {
     "data": {
      "text/plain": [
       "<AxesSubplot:xlabel='finish_turn', ylabel='Density'>"
      ]
     },
     "execution_count": 12,
     "metadata": {},
     "output_type": "execute_result"
    },
    {
     "data": {
      "image/png": "[encoded data removed]",
      "text/plain": [
       "<Figure size 432x288 with 1 Axes>"
      ]
     },
     "metadata": {
      "needs_background": "light"
     },
     "output_type": "display_data"
    }
   ],
   "source": [
    "sns.distplot(is_not_finish_df[\"finish_turn\"])"
   ]
  },
  {
   "cell_type": "code",
   "execution_count": 13,
   "id": "f029e8fb-80e4-4e41-8816-2131bedab8a4",
   "metadata": {},
   "outputs": [
    {
     "data": {
      "text/plain": [
       "<AxesSubplot:xlabel='finish_turn', ylabel='Density'>"
      ]
     },
     "execution_count": 13,
     "metadata": {},
     "output_type": "execute_result"
    },
    {
     "data": {
      "image/png": "[encoded data removed]",
      "text/plain": [
       "<Figure size 432x288 with 1 Axes>"
      ]
     },
     "metadata": {
      "needs_background": "light"
     },
     "output_type": "display_data"
    }
   ],
   "source": [
    "# 重ねる\n",
    "sns.distplot(is_finish_df[\"finish_turn\"])\n",
    "sns.distplot(is_not_finish_df[\"finish_turn\"])"
   ]
  },
  {
   "cell_type": "markdown",
   "id": "0975c01b-7e40-40c2-a5a1-7709c637b36a",
   "metadata": {},
   "source": [
    "終了判定されなかった(ユーザが投了した)ゲームは3T以下の終わることが考えづらい部分も値が入ってそう。  \n",
    "以下のようなケースが考えられる\n",
    "\n",
    "- ゲーム開始後、相手が操作しないので投了にした\n",
    "- 嫌いなカードがあった\n",
    "- 5-2と4-3の格差が大きいときに裏目を引いた\n",
    "\n",
    "これらのゲームはモデリングの際は除いて良さそう"
   ]
  },
  {
   "cell_type": "code",
   "execution_count": 14,
   "id": "d4626a52-5ec3-45d1-81bf-0819973e1bfe",
   "metadata": {},
   "outputs": [
    {
     "name": "stdout",
     "output_type": "stream",
     "text": [
      "is not finish: 13.731986672219909\n"
     ]
    }
   ],
   "source": [
    "# 上記のようなケースを除く。そしてそのときの平均\n",
    "is_not_finish_df = is_not_finish_df[is_not_finish_df[\"finish_turn\"] >= 3]\n",
    "print(f'is not finish: {is_not_finish_df[\"finish_turn\"].mean()}')"
   ]
  },
  {
   "cell_type": "markdown",
   "id": "9c46b73e-8c3d-4250-b0d8-b92035747068",
   "metadata": {},
   "source": [
    "# supply"
   ]
  },
  {
   "cell_type": "code",
   "execution_count": 15,
   "id": "0c9d9642-f6dc-4169-9315-8acb1460dc1f",
   "metadata": {},
   "outputs": [],
   "source": [
    "# supplyで頻出するカードを見る\n",
    "from collections import Counter\n",
    "\n",
    "card_cnt = Counter()\n",
    "\n",
    "for supply in is_finish_df[\"supply\"].values:\n",
    "    for card_name in supply.split(\" \"):\n",
    "        card_cnt[card_name] += 1"
   ]
  },
  {
   "cell_type": "code",
   "execution_count": 16,
   "id": "c13cf0ce-24fd-470f-af61-d72681f6711c",
   "metadata": {},
   "outputs": [
    {
     "data": {
      "text/plain": [
       "[('horse', 261),\n",
       " ('overgrown-estate', 68),\n",
       " ('necropolis', 68),\n",
       " ('hovel', 68),\n",
       " ('platinum', 55),\n",
       " ('camel-train', 54),\n",
       " ('fisherman', 50),\n",
       " ('animal-fair', 49),\n",
       " ('destrier', 48),\n",
       " ('wish', 45),\n",
       " ('cavalry', 44),\n",
       " ('sheepdog', 43),\n",
       " ('paddock', 43),\n",
       " ('captain', 40),\n",
       " ('groom', 39),\n",
       " ('livery', 38),\n",
       " ('goatherd', 38),\n",
       " ('black-cat', 37),\n",
       " ('colony', 36),\n",
       " ('hostelry', 36),\n",
       " ('peddler', 36),\n",
       " ('border-village', 36),\n",
       " ('wayfarer', 35),\n",
       " ('council-room', 35),\n",
       " ('oasis', 35),\n",
       " ('displace', 35),\n",
       " ('stockpile', 35),\n",
       " ('horn-of-plenty', 34),\n",
       " ('charm', 34),\n",
       " ('counterfeit', 34),\n",
       " ('barge', 34),\n",
       " ('supplies', 34),\n",
       " ('goat', 33),\n",
       " ('pixie', 33),\n",
       " ('rats', 33),\n",
       " ('beggar', 33),\n",
       " ('hermit', 33),\n",
       " ('jester', 33),\n",
       " ('workers-village', 33),\n",
       " ('bard', 32),\n",
       " ('forager', 32),\n",
       " ('falconer', 31),\n",
       " ('embargo', 31),\n",
       " ('scepter', 31),\n",
       " ('stonemason', 31),\n",
       " ('village-green', 31),\n",
       " ('mill', 31),\n",
       " ('snowy-village', 31),\n",
       " ('tunnel', 30),\n",
       " ('lackeys', 30)]"
      ]
     },
     "execution_count": 16,
     "metadata": {},
     "output_type": "execute_result"
    }
   ],
   "source": [
    "top50 = card_cnt.most_common()[:50]\n",
    "top50"
   ]
  },
  {
   "cell_type": "code",
   "execution_count": 17,
   "id": "efaf533f-36b7-4ca5-9a0d-4e42b7d30728",
   "metadata": {},
   "outputs": [
    {
     "data": {
      "text/plain": [
       "[('card-of-the-mouse', 1),\n",
       " ('possession', 1),\n",
       " ('pig', 1),\n",
       " ('card-of-the-horse', 2),\n",
       " ('training', 3),\n",
       " ('bandit-fort', 5),\n",
       " ('urchin', 5),\n",
       " ('mercenary', 5),\n",
       " ('road-network', 6),\n",
       " ('seaway', 6),\n",
       " ('wall', 6),\n",
       " ('inheritance', 6),\n",
       " ('way-of-the-monkey', 7),\n",
       " ('annex', 7),\n",
       " ('donate', 7),\n",
       " ('card-of-the-mule', 7),\n",
       " ('banquet', 7),\n",
       " ('way-of-the-ox', 8),\n",
       " ('keep', 8),\n",
       " ('horn', 8),\n",
       " ('lantern', 8),\n",
       " ('border-guard', 8),\n",
       " ('guildhall', 8),\n",
       " ('invest', 8),\n",
       " ('way-of-the-frog', 8),\n",
       " ('museum', 8),\n",
       " ('way-of-the-camel', 8),\n",
       " ('wedding', 8),\n",
       " ('summon', 8),\n",
       " ('exploration', 8),\n",
       " ('cathedral', 8),\n",
       " ('quest', 8),\n",
       " ('tax', 8),\n",
       " ('save', 8),\n",
       " ('goons', 9),\n",
       " ('arena', 9),\n",
       " ('capitalism', 9),\n",
       " ('pilgrimage', 9),\n",
       " ('trade', 9),\n",
       " ('tomb', 9),\n",
       " ('tournament', 9),\n",
       " ('princess', 9),\n",
       " ('bag-of-gold', 9),\n",
       " ('followers', 9),\n",
       " ('trusty-steed', 9),\n",
       " ('diadem', 9),\n",
       " ('ferry', 9),\n",
       " ('windfall', 9),\n",
       " ('pageant', 9),\n",
       " ('expedition', 9)]"
      ]
     },
     "execution_count": 17,
     "metadata": {},
     "output_type": "execute_result"
    }
   ],
   "source": [
    "bottom50 = card_cnt.most_common()[::-1][:50]\n",
    "bottom50\n",
    "\n",
    "# 支配が1件しか出現してない... みんな嫌いなのかな"
   ]
  },
  {
   "cell_type": "markdown",
   "id": "499f1cd8-0c0e-491d-b7a5-79c1bbd523c2",
   "metadata": {},
   "source": [
    "\"避難所\"や\"願い\"を除くのを忘れていた...  \n",
    "以下のデータはクリーニング\n",
    "\n",
    "- 避難所\n",
    "- 願い\n",
    "- 家宝\n",
    "- splitカードの片割れ\n",
    "- 騎士\n",
    "- 城\n",
    "- トラベラー(騎士見習い、農民)\n",
    "- pig (女魔術師？)\n",
    "- card-of-the-hoge (wayを取るときのバグっぽい)\n",
    "- ゾンビ(ネクロマンサー)\n",
    "- コウモリ"
   ]
  },
  {
   "cell_type": "code",
   "execution_count": 18,
   "id": "e3090563-9cb7-4ac8-b9f8-6b75b0c8847d",
   "metadata": {},
   "outputs": [],
   "source": [
    "# 正規終了しなかったゲームでも\n",
    "# supplyで頻出するカードを見る\n",
    "from collections import Counter\n",
    "\n",
    "card_cnt = Counter()\n",
    "\n",
    "for supply in is_not_finish_df[\"supply\"].values:\n",
    "    for card_name in supply.split(\" \"):\n",
    "        card_cnt[card_name] += 1"
   ]
  },
  {
   "cell_type": "code",
   "execution_count": 19,
   "id": "bb774789-dc47-4107-b678-8c9ab66c56c2",
   "metadata": {},
   "outputs": [
    {
     "data": {
      "text/plain": [
       "[('horse', 788),\n",
       " ('overgrown-estate', 231),\n",
       " ('necropolis', 231),\n",
       " ('hovel', 231),\n",
       " ('platinum', 157),\n",
       " ('colony', 156),\n",
       " ('wish', 145),\n",
       " ('cavalry', 142),\n",
       " ('stockpile', 131),\n",
       " ('destrier', 123),\n",
       " ('paddock', 120),\n",
       " ('sheepdog', 118),\n",
       " ('scrap', 116),\n",
       " ('gatekeeper', 112),\n",
       " ('captain', 111),\n",
       " ('hostelry', 110),\n",
       " ('cardinal', 110),\n",
       " ('animal-fair', 110),\n",
       " ('sleigh', 108),\n",
       " ('hunting-lodge', 108),\n",
       " ('supplies', 107),\n",
       " ('barge', 107),\n",
       " ('displace', 106),\n",
       " ('bounty-hunter', 105),\n",
       " ('kiln', 105),\n",
       " ('camel-train', 105),\n",
       " ('peddler', 104),\n",
       " ('coven', 104),\n",
       " ('wayfarer', 103),\n",
       " ('goatherd', 103),\n",
       " ('village-green', 102),\n",
       " ('black-cat', 102),\n",
       " ('mastermind', 101),\n",
       " ('groom', 101),\n",
       " ('livery', 98),\n",
       " ('fisherman', 98),\n",
       " ('scepter', 96),\n",
       " ('falconer', 96),\n",
       " ('overlord', 94),\n",
       " ('snowy-village', 94),\n",
       " ('oracle', 93),\n",
       " ('patron', 91),\n",
       " ('rogue', 91),\n",
       " ('sanctuary', 91),\n",
       " ('stables', 86),\n",
       " ('fortune', 86),\n",
       " ('border-village', 85),\n",
       " ('expand', 85),\n",
       " ('city-quarter', 85),\n",
       " ('lost-city', 85)]"
      ]
     },
     "execution_count": 19,
     "metadata": {},
     "output_type": "execute_result"
    }
   ],
   "source": [
    "top50 = card_cnt.most_common()[:50]\n",
    "top50"
   ]
  },
  {
   "cell_type": "code",
   "execution_count": 20,
   "id": "17ed62a0-7b4b-4da9-9e9c-702d7fd6e566",
   "metadata": {},
   "outputs": [
    {
     "data": {
      "text/plain": [
       "[('card-of-the-camel', 2),\n",
       " ('card-of-the-squirrel', 3),\n",
       " ('card-of-the-frog', 4),\n",
       " ('card-of-the-goat', 4),\n",
       " ('card-of-the-seal', 4),\n",
       " ('card-of-the-rat', 5),\n",
       " ('card-of-the-mole', 6),\n",
       " ('card-of-the-horse', 10),\n",
       " ('possession', 11),\n",
       " ('card-of-the-worm', 11),\n",
       " ('card-of-the-pig', 11),\n",
       " ('card-of-the-sheep', 11),\n",
       " ('card-of-the-owl', 11),\n",
       " ('card-of-the-chameleon', 12),\n",
       " ('card-of-the-ox', 13),\n",
       " ('card-of-the-monkey', 16),\n",
       " ('card-of-the-otter', 17),\n",
       " ('card-of-the-mouse', 19),\n",
       " ('pig', 19),\n",
       " ('keep', 24),\n",
       " ('bandit-fort', 24),\n",
       " ('wall', 25),\n",
       " ('ritual', 25),\n",
       " ('march', 25),\n",
       " ('triumphal-arch', 25),\n",
       " ('exploration', 26),\n",
       " ('pageant', 26),\n",
       " ('academy', 26),\n",
       " ('tax', 26),\n",
       " ('palace', 27),\n",
       " ('delve', 27),\n",
       " ('donate', 28),\n",
       " ('reap', 28),\n",
       " ('trade', 29),\n",
       " ('mission', 29),\n",
       " ('aqueduct', 29),\n",
       " ('wolf-den', 29),\n",
       " ('swindler', 29),\n",
       " ('alms', 29),\n",
       " ('silos', 29),\n",
       " ('mountain-pass', 30),\n",
       " ('crop-rotation', 30),\n",
       " ('pilgrimage', 30),\n",
       " ('star-chart', 30),\n",
       " ('barracks', 30),\n",
       " ('quest', 31),\n",
       " ('inheritance', 31),\n",
       " ('dominate', 31),\n",
       " ('banquet', 31),\n",
       " ('ball', 31)]"
      ]
     },
     "execution_count": 20,
     "metadata": {},
     "output_type": "execute_result"
    }
   ],
   "source": [
    "bottom50 = card_cnt.most_common()[::-1][:50]\n",
    "bottom50\n",
    "\n",
    "# 支配圧倒的に少ない\n",
    "# それ以外はイベント・ランドマークが多い\n",
    "# 詐欺師も出現している -> みんなbanしている？"
   ]
  },
  {
   "cell_type": "markdown",
   "id": "ec8ded64-df25-40f7-af30-445359a4eebb",
   "metadata": {},
   "source": [
    "# supply x finish_turn"
   ]
  },
  {
   "cell_type": "code",
   "execution_count": 24,
   "id": "8217ac0e-2070-499d-a0b5-fb8ab24b0460",
   "metadata": {},
   "outputs": [
    {
     "data": {
      "text/html": [
       "<div>\n",
       "<style scoped>\n",
       "    .dataframe tbody tr th:only-of-type {\n",
       "        vertical-align: middle;\n",
       "    }\n",
       "\n",
       "    .dataframe tbody tr th {\n",
       "        vertical-align: top;\n",
       "    }\n",
       "\n",
       "    .dataframe thead th {\n",
       "        text-align: right;\n",
       "    }\n",
       "</style>\n",
       "<table border=\"1\" class=\"dataframe\">\n",
       "  <thead>\n",
       "    <tr style=\"text-align: right;\">\n",
       "      <th></th>\n",
       "      <th>supply</th>\n",
       "      <th>finish_turn</th>\n",
       "      <th>is_finish</th>\n",
       "    </tr>\n",
       "  </thead>\n",
       "  <tbody>\n",
       "    <tr>\n",
       "      <th>2833</th>\n",
       "      <td>procession horse livery animal-fair way-of-the-pig hostelry hermit farmers-market captain crossroads magpie enhance cache coven</td>\n",
       "      <td>7.5</td>\n",
       "      <td>True</td>\n",
       "    </tr>\n",
       "    <tr>\n",
       "      <th>2979</th>\n",
       "      <td>duplicate lackeys horse cellar triumph way-of-the-ox trading-post library steward groom goatherd wayfarer mastermind</td>\n",
       "      <td>8.0</td>\n",
       "      <td>True</td>\n",
       "    </tr>\n",
       "    <tr>\n",
       "      <th>2239</th>\n",
       "      <td>duplicate academy prince mandarin inventor scrying-pool merchant-guild platinum sculptor colony way-of-the-mole contraband workers-village lackeys</td>\n",
       "      <td>8.5</td>\n",
       "      <td>True</td>\n",
       "    </tr>\n",
       "    <tr>\n",
       "      <th>246</th>\n",
       "      <td>advance pirate-ship cobbler sleigh villa wayfarer animal-fair death-cart horse artificer seer baron windfall</td>\n",
       "      <td>8.5</td>\n",
       "      <td>True</td>\n",
       "    </tr>\n",
       "    <tr>\n",
       "      <th>2932</th>\n",
       "      <td>border-village enhance harvest salvager caravan livery trade-route horse forum highway cathedral port death-cart stonemason</td>\n",
       "      <td>8.5</td>\n",
       "      <td>True</td>\n",
       "    </tr>\n",
       "    <tr>\n",
       "      <th>372</th>\n",
       "      <td>jester border-village academy stonemason ghost-town scheme scrap experiment margrave bat advance lost-city vampire horse</td>\n",
       "      <td>8.5</td>\n",
       "      <td>True</td>\n",
       "    </tr>\n",
       "    <tr>\n",
       "      <th>1147</th>\n",
       "      <td>fortress philosophers-stone hermit noble-brigand horse bargain quarry counting-house council-room fools-gold groundskeeper vineyard ride</td>\n",
       "      <td>9.0</td>\n",
       "      <td>True</td>\n",
       "    </tr>\n",
       "    <tr>\n",
       "      <th>2960</th>\n",
       "      <td>loan tower jester pixie ironworks city-quarter gardens rabble colonnade inventor goat stonemason cartographer magpie</td>\n",
       "      <td>9.0</td>\n",
       "      <td>True</td>\n",
       "    </tr>\n",
       "    <tr>\n",
       "      <th>2844</th>\n",
       "      <td>counterfeit tax overgrown-estate tracker pirate-ship pouch hunting-grounds bishop lost-arts cobbler scheme hovel lurker lighthouse necropolis courtyard</td>\n",
       "      <td>9.0</td>\n",
       "      <td>True</td>\n",
       "    </tr>\n",
       "    <tr>\n",
       "      <th>2117</th>\n",
       "      <td>young-witch bounty-hunter fisherman bargain wayfarer leprechaun pearl-diver stockpile gamble ambassador horse hermit border-village wish contraband</td>\n",
       "      <td>9.0</td>\n",
       "      <td>True</td>\n",
       "    </tr>\n",
       "  </tbody>\n",
       "</table>\n",
       "</div>"
      ],
      "text/plain": [
       "                                                                                                                                                       supply  \\\n",
       "2833                          procession horse livery animal-fair way-of-the-pig hostelry hermit farmers-market captain crossroads magpie enhance cache coven   \n",
       "2979                                     duplicate lackeys horse cellar triumph way-of-the-ox trading-post library steward groom goatherd wayfarer mastermind   \n",
       "2239       duplicate academy prince mandarin inventor scrying-pool merchant-guild platinum sculptor colony way-of-the-mole contraband workers-village lackeys   \n",
       "246                                              advance pirate-ship cobbler sleigh villa wayfarer animal-fair death-cart horse artificer seer baron windfall   \n",
       "2932                              border-village enhance harvest salvager caravan livery trade-route horse forum highway cathedral port death-cart stonemason   \n",
       "372                                  jester border-village academy stonemason ghost-town scheme scrap experiment margrave bat advance lost-city vampire horse   \n",
       "1147                 fortress philosophers-stone hermit noble-brigand horse bargain quarry counting-house council-room fools-gold groundskeeper vineyard ride   \n",
       "2960                                     loan tower jester pixie ironworks city-quarter gardens rabble colonnade inventor goat stonemason cartographer magpie   \n",
       "2844  counterfeit tax overgrown-estate tracker pirate-ship pouch hunting-grounds bishop lost-arts cobbler scheme hovel lurker lighthouse necropolis courtyard   \n",
       "2117      young-witch bounty-hunter fisherman bargain wayfarer leprechaun pearl-diver stockpile gamble ambassador horse hermit border-village wish contraband   \n",
       "\n",
       "      finish_turn  is_finish  \n",
       "2833          7.5       True  \n",
       "2979          8.0       True  \n",
       "2239          8.5       True  \n",
       "246           8.5       True  \n",
       "2932          8.5       True  \n",
       "372           8.5       True  \n",
       "1147          9.0       True  \n",
       "2960          9.0       True  \n",
       "2844          9.0       True  \n",
       "2117          9.0       True  "
      ]
     },
     "execution_count": 24,
     "metadata": {},
     "output_type": "execute_result"
    }
   ],
   "source": [
    "# 終了ターンが早いゲームのサプライを見てみる\n",
    "pd.set_option(\"display.max_colwidth\", 200)  # 省略しない\n",
    "is_finish_df.sort_values('finish_turn').head(10)"
   ]
  },
  {
   "cell_type": "markdown",
   "id": "0b25a2a7-86aa-4d4f-a9d2-7e16d43e25b0",
   "metadata": {},
   "source": [
    "- 最短のゲームは「行進-馬」なので納得...\n",
    "- 2番目に短いゲームは「mastermind」と「groom」が暴れた？\n",
    "- それ以外のゲームも、基本山が枯れるカード(発明家、ヴィラ、石工、大学など)が入ってそう？"
   ]
  },
  {
   "cell_type": "code",
   "execution_count": 26,
   "id": "466acc6b-75d8-43ef-8a5c-d7e05864d190",
   "metadata": {},
   "outputs": [
    {
     "data": {
      "text/html": [
       "<div>\n",
       "<style scoped>\n",
       "    .dataframe tbody tr th:only-of-type {\n",
       "        vertical-align: middle;\n",
       "    }\n",
       "\n",
       "    .dataframe tbody tr th {\n",
       "        vertical-align: top;\n",
       "    }\n",
       "\n",
       "    .dataframe thead th {\n",
       "        text-align: right;\n",
       "    }\n",
       "</style>\n",
       "<table border=\"1\" class=\"dataframe\">\n",
       "  <thead>\n",
       "    <tr style=\"text-align: right;\">\n",
       "      <th></th>\n",
       "      <th>supply</th>\n",
       "      <th>finish_turn</th>\n",
       "      <th>is_finish</th>\n",
       "    </tr>\n",
       "  </thead>\n",
       "  <tbody>\n",
       "    <tr>\n",
       "      <th>2271</th>\n",
       "      <td>pasture herbalist cultist ironmonger overgrown-estate scavenger canal shepherd march skulk hovel squire necropolis throne-room contraband fishing-village</td>\n",
       "      <td>28.0</td>\n",
       "      <td>True</td>\n",
       "    </tr>\n",
       "    <tr>\n",
       "      <th>114</th>\n",
       "      <td>sir-destry sir-vander forager dame-anna native-village dame-sylvia sir-michael dame-josephine necropolis priest overgrown-estate capital kiln way-of-the-worm knights upgrade sir-martin hovel candl...</td>\n",
       "      <td>26.0</td>\n",
       "      <td>True</td>\n",
       "    </tr>\n",
       "    <tr>\n",
       "      <th>2314</th>\n",
       "      <td>swashbuckler humble-castle sprawling-castle cache castles council-room kings-castle horse-traders small-castle conquest crumbling-castle bank opulent-castle wedding haunted-castle capital artifice...</td>\n",
       "      <td>26.0</td>\n",
       "      <td>True</td>\n",
       "    </tr>\n",
       "    <tr>\n",
       "      <th>2769</th>\n",
       "      <td>island mint poacher horse lost-in-the-woods trade-route swamp-hag border-village fool platinum soothsayer way-of-the-goat hostelry wolf-den marauder lucky-coin</td>\n",
       "      <td>26.0</td>\n",
       "      <td>True</td>\n",
       "    </tr>\n",
       "    <tr>\n",
       "      <th>1826</th>\n",
       "      <td>vineyard upgrade platinum marauder colony treasury jester rabble workshop cellar coven night-watchman</td>\n",
       "      <td>25.5</td>\n",
       "      <td>True</td>\n",
       "    </tr>\n",
       "    <tr>\n",
       "      <th>1207</th>\n",
       "      <td>overgrown-estate charm merchant-guild monument necropolis exploration toil courtyard coven market-square inn hovel contraband bandit-camp coin-of-the-realm</td>\n",
       "      <td>25.5</td>\n",
       "      <td>True</td>\n",
       "    </tr>\n",
       "    <tr>\n",
       "      <th>642</th>\n",
       "      <td>sir-destry sir-bailey dame-molly mint sir-martin priest fleet storyteller sir-michael dame-josephine dame-anna dame-natalie defiled-shrine forager old-witch pouch tracker caravan giant sir-vander ...</td>\n",
       "      <td>25.0</td>\n",
       "      <td>True</td>\n",
       "    </tr>\n",
       "    <tr>\n",
       "      <th>2810</th>\n",
       "      <td>ride crown dismantle camel-train scouting-party cavalry duke border-village festival royal-seal horse miser church walled-village</td>\n",
       "      <td>24.5</td>\n",
       "      <td>True</td>\n",
       "    </tr>\n",
       "    <tr>\n",
       "      <th>2401</th>\n",
       "      <td>animal-fair crumbling-castle kings-castle small-castle haunted-woods salt-the-earth castles vassal sculptor haunted-castle humble-castle opulent-castle ball sprawling-castle skulk mountain-village...</td>\n",
       "      <td>24.0</td>\n",
       "      <td>True</td>\n",
       "    </tr>\n",
       "    <tr>\n",
       "      <th>2178</th>\n",
       "      <td>temple raider way-of-the-horse cartographer vineyard conclave oasis farmers-market treasure-map festival summon venture</td>\n",
       "      <td>24.0</td>\n",
       "      <td>True</td>\n",
       "    </tr>\n",
       "  </tbody>\n",
       "</table>\n",
       "</div>"
      ],
      "text/plain": [
       "                                                                                                                                                                                                       supply  \\\n",
       "2271                                                pasture herbalist cultist ironmonger overgrown-estate scavenger canal shepherd march skulk hovel squire necropolis throne-room contraband fishing-village   \n",
       "114   sir-destry sir-vander forager dame-anna native-village dame-sylvia sir-michael dame-josephine necropolis priest overgrown-estate capital kiln way-of-the-worm knights upgrade sir-martin hovel candl...   \n",
       "2314  swashbuckler humble-castle sprawling-castle cache castles council-room kings-castle horse-traders small-castle conquest crumbling-castle bank opulent-castle wedding haunted-castle capital artifice...   \n",
       "2769                                          island mint poacher horse lost-in-the-woods trade-route swamp-hag border-village fool platinum soothsayer way-of-the-goat hostelry wolf-den marauder lucky-coin   \n",
       "1826                                                                                                    vineyard upgrade platinum marauder colony treasury jester rabble workshop cellar coven night-watchman   \n",
       "1207                                              overgrown-estate charm merchant-guild monument necropolis exploration toil courtyard coven market-square inn hovel contraband bandit-camp coin-of-the-realm   \n",
       "642   sir-destry sir-bailey dame-molly mint sir-martin priest fleet storyteller sir-michael dame-josephine dame-anna dame-natalie defiled-shrine forager old-witch pouch tracker caravan giant sir-vander ...   \n",
       "2810                                                                        ride crown dismantle camel-train scouting-party cavalry duke border-village festival royal-seal horse miser church walled-village   \n",
       "2401  animal-fair crumbling-castle kings-castle small-castle haunted-woods salt-the-earth castles vassal sculptor haunted-castle humble-castle opulent-castle ball sprawling-castle skulk mountain-village...   \n",
       "2178                                                                                  temple raider way-of-the-horse cartographer vineyard conclave oasis farmers-market treasure-map festival summon venture   \n",
       "\n",
       "      finish_turn  is_finish  \n",
       "2271         28.0       True  \n",
       "114          26.0       True  \n",
       "2314         26.0       True  \n",
       "2769         26.0       True  \n",
       "1826         25.5       True  \n",
       "1207         25.5       True  \n",
       "642          25.0       True  \n",
       "2810         24.5       True  \n",
       "2401         24.0       True  \n",
       "2178         24.0       True  "
      ]
     },
     "execution_count": 26,
     "metadata": {},
     "output_type": "execute_result"
    }
   ],
   "source": [
    "# 終了ターンが早いゲームのサプライを見てみる\n",
    "is_finish_df.sort_values('finish_turn', ascending=False).head(10)"
   ]
  },
  {
   "cell_type": "markdown",
   "id": "59f7c822-8f29-4743-8f85-29ee05820e1d",
   "metadata": {},
   "source": [
    "- 一番遅かったゲームは「狂信者」と「羊飼い」でグダグダゲームになった？\n",
    "- 騎士が複数回登場している... やっぱり良くないカード\n",
    "- 城も複数回登場している。城 vs. 属州 はロングゲームになりやすい"
   ]
  },
  {
   "cell_type": "code",
   "execution_count": null,
   "id": "ed959530-3cd4-4dc3-bbea-482610381280",
   "metadata": {},
   "outputs": [],
   "source": []
  }
 ],
 "metadata": {
  "kernelspec": {
   "display_name": "Python 3 (ipykernel)",
   "language": "python",
   "name": "python3"
  },
  "language_info": {
   "codemirror_mode": {
    "name": "ipython",
    "version": 3
   },
   "file_extension": ".py",
   "mimetype": "text/x-python",
   "name": "python",
   "nbconvert_exporter": "python",
   "pygments_lexer": "ipython3",
   "version": "3.8.12"
  }
 },
 "nbformat": 4,
 "nbformat_minor": 5
}
